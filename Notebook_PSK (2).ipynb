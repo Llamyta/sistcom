{
 "cells": [
  {
   "cell_type": "code",
   "execution_count": null,
   "metadata": {},
   "outputs": [],
   "source": []
  },
  {
   "cell_type": "code",
   "execution_count": null,
   "metadata": {},
   "outputs": [],
   "source": []
  },
  {
   "cell_type": "code",
   "execution_count": null,
   "metadata": {},
   "outputs": [],
   "source": []
  },
  {
   "cell_type": "code",
   "execution_count": null,
   "metadata": {},
   "outputs": [],
   "source": []
  },
  {
   "cell_type": "code",
   "execution_count": null,
   "metadata": {},
   "outputs": [],
   "source": []
  },
  {
   "cell_type": "code",
   "execution_count": null,
   "metadata": {},
   "outputs": [],
   "source": []
  },
  {
   "cell_type": "markdown",
   "metadata": {},
   "source": [
    "Preguntas:\n",
    "1) ¿En qué consiste la modulación PSK?\n",
    "\n",
    "    R: Significa \"Phase Shift Keying\", o Modulacion por Desplazamiento de Fase. Consiste en la modificacion de la fase de la señal. Es un metodo de modulacion de señales digitales, donde la amplitud de la señal moduladora es digital, es decir, unicamente 0 o 1.\n",
    "       En este metodo, La fase, dependiendo del valor actual de la señal moduladora (0 o 1), se invertirá. La frecuencia y amplitud de la señal modulada se mantienen constantes.\n",
    "    \n",
    "2) En base a todas las modulaciones vistas analógicas (Am y FM) y digitales (ASK, FSK, PSK) redacta 3 conclusiones sobre la importancia de la modulación para transmitir información.\n",
    "\n",
    "    R:\n",
    "    a) Los sonidos que nosotros manejamos son de baja frecuencia, pero las señales baja frecuencia tienen poco alcance, por lo que es necesario llevarlas a altas frecuencias para transmitirlas a largas distancias. La modulacion las trae de vuelta a una frecuencia legible.\n",
    "    b) Para enviar o recibir varias señales a la vez, es necesario enviarlas en diferentes frecuencias para que unas no interfieran con otras. Una vez mas, la modulacion las trae a todas de vuelta a una frecuencia legible.\n",
    "    c) Es importante modular las señales para protegerlas de ruido/interferencia. Al separar diferentes tipos de señales, tales como video o audio, en diferentes rangos, se puede evitar que todas tengan que compartir una pequeña cantiadad de frecuencias. De esta forma se puede esperar que la frecuencia de cada señal esté relativamente limpia de otras señales que pudieran interferir."
   ]
  }
 ],
 "metadata": {
  "kernelspec": {
   "display_name": "Python 3",
   "language": "python",
   "name": "python3"
  },
  "language_info": {
   "codemirror_mode": {
    "name": "ipython",
    "version": 3
   },
   "file_extension": ".py",
   "mimetype": "text/x-python",
   "name": "python",
   "nbconvert_exporter": "python",
   "pygments_lexer": "ipython3",
   "version": "3.7.2"
  }
 },
 "nbformat": 4,
 "nbformat_minor": 2
}
