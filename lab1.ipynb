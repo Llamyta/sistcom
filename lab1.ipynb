{
 "cells": [
  {
   "cell_type": "code",
   "execution_count": 1,
   "metadata": {},
   "outputs": [],
   "source": [
    "#!pip install twilio==5.7.0"
   ]
  },
  {
   "cell_type": "code",
   "execution_count": 2,
   "metadata": {},
   "outputs": [],
   "source": [
    "from twilio.rest import TwilioRestClient"
   ]
  },
  {
   "cell_type": "code",
   "execution_count": 3,
   "metadata": {},
   "outputs": [],
   "source": [
    "TWILIO_PHONE_NUMBER = \"+12063503528\""
   ]
  },
  {
   "cell_type": "code",
   "execution_count": 9,
   "metadata": {},
   "outputs": [],
   "source": [
    "DIAL_NUMBERS = [\"+59179157186\",]"
   ]
  },
  {
   "cell_type": "code",
   "execution_count": 10,
   "metadata": {},
   "outputs": [],
   "source": [
    "TWIML_INSTRUCTIONS_URL = \\\n",
    "\"https://vidaenred.org/llamada-Sist_Com.xml\""
   ]
  },
  {
   "cell_type": "code",
   "execution_count": 11,
   "metadata": {},
   "outputs": [],
   "source": [
    "client = TwilioRestClient(\"AC4edca42f97f49ea4a07d86c547922afb\", \"e369d67657949fd5b9b584c08297b384\")"
   ]
  },
  {
   "cell_type": "code",
   "execution_count": 12,
   "metadata": {},
   "outputs": [],
   "source": [
    "def dial_numbers(numbers_list):\n",
    "    print(\"Dialing\" + number)\n",
    "\n",
    "    # set the method to “GET” from default POST because Amazon S3 only\n",
    "\n",
    "    # serves GET requests on files. Typically POST would be used for apps\n",
    "\n",
    "    client.calls.create(to=number, from_=TWILIO_PHONE_NUMBER,\n",
    "\n",
    "    url=TWIML_INSTRUCTIONS_URL, method=\"GET\")"
   ]
  },
  {
   "cell_type": "code",
   "execution_count": null,
   "metadata": {},
   "outputs": [],
   "source": []
  },
  {
   "cell_type": "code",
   "execution_count": 13,
   "metadata": {},
   "outputs": [
    {
     "ename": "IndentationError",
     "evalue": "expected an indented block (<ipython-input-13-50c9ecbb50a8>, line 3)",
     "output_type": "error",
     "traceback": [
      "\u001b[1;36m  File \u001b[1;32m\"<ipython-input-13-50c9ecbb50a8>\"\u001b[1;36m, line \u001b[1;32m3\u001b[0m\n\u001b[1;33m    dial_numbers(DIAL_NUMBERS)\u001b[0m\n\u001b[1;37m               ^\u001b[0m\n\u001b[1;31mIndentationError\u001b[0m\u001b[1;31m:\u001b[0m expected an indented block\n"
     ]
    }
   ],
   "source": [
    "if __name__ == \"__main__\":\n",
    "\n",
    "dial_numbers(DIAL_NUMBERS)"
   ]
  },
  {
   "cell_type": "code",
   "execution_count": null,
   "metadata": {},
   "outputs": [],
   "source": []
  },
  {
   "cell_type": "code",
   "execution_count": null,
   "metadata": {},
   "outputs": [],
   "source": []
  }
 ],
 "metadata": {
  "kernelspec": {
   "display_name": "Python 3",
   "language": "python",
   "name": "python3"
  },
  "language_info": {
   "codemirror_mode": {
    "name": "ipython",
    "version": 3
   },
   "file_extension": ".py",
   "mimetype": "text/x-python",
   "name": "python",
   "nbconvert_exporter": "python",
   "pygments_lexer": "ipython3",
   "version": "3.7.1"
  }
 },
 "nbformat": 4,
 "nbformat_minor": 2
}
