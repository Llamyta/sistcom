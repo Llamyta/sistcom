{
 "cells": [
  {
   "cell_type": "code",
   "execution_count": 66,
   "metadata": {},
   "outputs": [
    {
     "name": "stdout",
     "output_type": "stream",
     "text": [
      "Requirement already satisfied: twilio==5.7.0 in c:\\users\\raque\\anaconda3\\lib\\site-packages (5.7.0)\n",
      "Requirement already satisfied: pytz in c:\\users\\raque\\anaconda3\\lib\\site-packages (from twilio==5.7.0) (2018.7)\n",
      "Requirement already satisfied: six in c:\\users\\raque\\anaconda3\\lib\\site-packages (from twilio==5.7.0) (1.12.0)\n",
      "Requirement already satisfied: httplib2>=0.7 in c:\\users\\raque\\anaconda3\\lib\\site-packages (from twilio==5.7.0) (0.12.1)\n",
      "Requirement already satisfied: pysocks in c:\\users\\raque\\anaconda3\\lib\\site-packages (from twilio==5.7.0) (1.6.8)\n"
     ]
    }
   ],
   "source": [
    "!pip install twilio==5.7.0"
   ]
  },
  {
   "cell_type": "code",
   "execution_count": 67,
   "metadata": {},
   "outputs": [],
   "source": [
    "from twilio.rest import TwilioRestClient"
   ]
  },
  {
   "cell_type": "code",
   "execution_count": 80,
   "metadata": {},
   "outputs": [],
   "source": [
    "TWILIO_PHONE_NUMBER = \"+12063504236\""
   ]
  },
  {
   "cell_type": "code",
   "execution_count": 81,
   "metadata": {},
   "outputs": [],
   "source": [
    "DIAL_NUMBERS = [\"+59167593666\",]"
   ]
  },
  {
   "cell_type": "code",
   "execution_count": 82,
   "metadata": {},
   "outputs": [],
   "source": [
    "TWIML_INSTRUCTIONS_URL = \\\n",
    "\"https://vidaenred.org/llamada-Sist_Com.xml\""
   ]
  },
  {
   "cell_type": "code",
   "execution_count": 83,
   "metadata": {},
   "outputs": [],
   "source": [
    "client = TwilioRestClient(\"AC86aaeb96eb5d56b3d9916adca09b3066\", \"c4219d67f83ff7542b68ad4dcedbc7bb\")"
   ]
  },
  {
   "cell_type": "code",
   "execution_count": 84,
   "metadata": {},
   "outputs": [],
   "source": [
    "def dial_numbers(numbers_list):\n",
    "    for number in numbers_list:\n",
    "        \n",
    "        client.calls.create(to=number, from_=TWILIO_PHONE_NUMBER,\n",
    "                            url=TWIML_INSTRUCTIONS_URL, method=\"GET\")"
   ]
  },
  {
   "cell_type": "code",
   "execution_count": null,
   "metadata": {},
   "outputs": [],
   "source": []
  },
  {
   "cell_type": "code",
   "execution_count": 85,
   "metadata": {},
   "outputs": [],
   "source": [
    "if __name__ == \"__main__\":\n",
    "    dial_numbers(DIAL_NUMBERS)"
   ]
  },
  {
   "cell_type": "code",
   "execution_count": null,
   "metadata": {},
   "outputs": [],
   "source": []
  },
  {
   "cell_type": "markdown",
   "metadata": {},
   "source": [
    "Preguntas\n",
    "1.Es el mensaje que llega en la llamada\n",
    "2.Twilio es una libreria que ayuda a enviar y recibir mensajes en todo el mundo\n",
    "es una plataforma de desarrollo que permite construir aplicaciones en la nube.\n",
    "3.Sirve para marcar los numeros, desde acá se realiza la marcacion."
   ]
  },
  {
   "cell_type": "code",
   "execution_count": null,
   "metadata": {},
   "outputs": [],
   "source": []
  },
  {
   "cell_type": "code",
   "execution_count": null,
   "metadata": {},
   "outputs": [],
   "source": []
  },
  {
   "cell_type": "code",
   "execution_count": null,
   "metadata": {},
   "outputs": [],
   "source": []
  },
  {
   "cell_type": "code",
   "execution_count": null,
   "metadata": {},
   "outputs": [],
   "source": []
  },
  {
   "cell_type": "code",
   "execution_count": null,
   "metadata": {},
   "outputs": [],
   "source": []
  }
 ],
 "metadata": {
  "kernelspec": {
   "display_name": "Python 3",
   "language": "python",
   "name": "python3"
  },
  "language_info": {
   "codemirror_mode": {
    "name": "ipython",
    "version": 3
   },
   "file_extension": ".py",
   "mimetype": "text/x-python",
   "name": "python",
   "nbconvert_exporter": "python",
   "pygments_lexer": "ipython3",
   "version": "3.7.1"
  }
 },
 "nbformat": 4,
 "nbformat_minor": 2
}
